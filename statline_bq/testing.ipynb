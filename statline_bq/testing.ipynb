{
 "metadata": {
  "language_info": {
   "codemirror_mode": {
    "name": "ipython",
    "version": 3
   },
   "file_extension": ".py",
   "mimetype": "text/x-python",
   "name": "python",
   "nbconvert_exporter": "python",
   "pygments_lexer": "ipython3",
   "version": "3.8.5-final"
  },
  "orig_nbformat": 2,
  "kernelspec": {
   "name": "python3",
   "display_name": "Python 3"
  }
 },
 "nbformat": 4,
 "nbformat_minor": 2,
 "cells": [
  {
   "cell_type": "code",
   "execution_count": 2,
   "metadata": {},
   "outputs": [],
   "source": [
    "import json\n",
    "from pathlib import Path\n",
    "import requests\n",
    "import subprocess\n",
    "import toml"
   ]
  },
  {
   "source": [
    "# fetching data\n",
    "____________"
   ],
   "cell_type": "markdown",
   "metadata": {}
  },
  {
   "cell_type": "code",
   "execution_count": 75,
   "metadata": {},
   "outputs": [],
   "source": [
    "target_url = 'https://odata4.cbs.nl/CBS/83765NED/Observations'"
   ]
  },
  {
   "source": [
    "## With Curl"
   ],
   "cell_type": "markdown",
   "metadata": {}
  },
  {
   "cell_type": "code",
   "execution_count": 76,
   "metadata": {},
   "outputs": [],
   "source": [
    "path1 = Path('./temp/temp1.json')\n",
    "path2 = Path('./temp/temp2.json')"
   ]
  },
  {
   "cell_type": "code",
   "execution_count": 77,
   "metadata": {},
   "outputs": [
    {
     "output_type": "execute_result",
     "data": {
      "text/plain": [
       "CompletedProcess(args='curl -fL https://odata4.cbs.nl/CBS/83765NED/Observations >> temp/temp1.json', returncode=0)"
      ]
     },
     "metadata": {},
     "execution_count": 77
    }
   ],
   "source": [
    "subprocess.run(f\"curl -fL {target_url} >> {path1}\", shell=True)"
   ]
  },
  {
   "cell_type": "code",
   "execution_count": 78,
   "metadata": {},
   "outputs": [],
   "source": [
    "with open(path1, 'r') as f:\n",
    "    temp1 = json.load(f)"
   ]
  },
  {
   "cell_type": "code",
   "execution_count": 79,
   "metadata": {},
   "outputs": [],
   "source": [
    "target_url2 = temp1['@odata.nextLink']"
   ]
  },
  {
   "cell_type": "code",
   "execution_count": 88,
   "metadata": {},
   "outputs": [
    {
     "output_type": "execute_result",
     "data": {
      "text/plain": [
       "'https://odata4.cbs.nl/CBS/83765NED/Observations?$skip=100000'"
      ]
     },
     "metadata": {},
     "execution_count": 88
    }
   ],
   "source": [
    "target_url2"
   ]
  },
  {
   "cell_type": "code",
   "execution_count": 80,
   "metadata": {},
   "outputs": [
    {
     "output_type": "execute_result",
     "data": {
      "text/plain": [
       "CompletedProcess(args='curl -fL https://odata4.cbs.nl/CBS/83765NED/Observations?$skip=100000 >> temp/temp2.json', returncode=0)"
      ]
     },
     "metadata": {},
     "execution_count": 80
    }
   ],
   "source": [
    "subprocess.run(f\"curl -fL {target_url2} >> {path2}\", shell=True)"
   ]
  },
  {
   "source": [
    "## With Requests"
   ],
   "cell_type": "markdown",
   "metadata": {}
  },
  {
   "cell_type": "code",
   "execution_count": 83,
   "metadata": {},
   "outputs": [],
   "source": [
    "r = requests.get(target_url).json()"
   ]
  },
  {
   "cell_type": "code",
   "execution_count": 84,
   "metadata": {},
   "outputs": [],
   "source": [
    "r1 = r['value']"
   ]
  },
  {
   "cell_type": "code",
   "execution_count": 85,
   "metadata": {},
   "outputs": [],
   "source": [
    "target_url2_r = r['@odata.nextLink']"
   ]
  },
  {
   "cell_type": "code",
   "execution_count": 87,
   "metadata": {},
   "outputs": [
    {
     "output_type": "execute_result",
     "data": {
      "text/plain": [
       "'https://odata4.cbs.nl/CBS/83765NED/Observations?$skip=100000'"
      ]
     },
     "metadata": {},
     "execution_count": 87
    }
   ],
   "source": [
    "target_url2_r"
   ]
  },
  {
   "cell_type": "code",
   "execution_count": 92,
   "metadata": {},
   "outputs": [],
   "source": [
    "r = requests.get(target_url2_r).json()"
   ]
  },
  {
   "cell_type": "code",
   "execution_count": 93,
   "metadata": {},
   "outputs": [],
   "source": [
    "r2 = r['value']"
   ]
  },
  {
   "source": [
    "## Comparing results"
   ],
   "cell_type": "markdown",
   "metadata": {}
  },
  {
   "cell_type": "code",
   "execution_count": 90,
   "metadata": {},
   "outputs": [],
   "source": [
    "with open(path2, 'r') as f:\n",
    "    temp2 = json.load(f)"
   ]
  },
  {
   "cell_type": "code",
   "execution_count": 91,
   "metadata": {},
   "outputs": [
    {
     "output_type": "execute_result",
     "data": {
      "text/plain": [
       "{'Id': 0,\n",
       " 'Measure': 'T001036',\n",
       " 'ValueAttribute': 'None',\n",
       " 'Value': 17081507.0,\n",
       " 'WijkenEnBuurten': 'NL00'}"
      ]
     },
     "metadata": {},
     "execution_count": 91
    }
   ],
   "source": [
    "temp1['value'][0]"
   ]
  },
  {
   "cell_type": "code",
   "execution_count": 28,
   "metadata": {},
   "outputs": [
    {
     "output_type": "execute_result",
     "data": {
      "text/plain": [
       "{'Id': 0,\n",
       " 'Measure': 'T001036',\n",
       " 'ValueAttribute': 'None',\n",
       " 'Value': 17081507.0,\n",
       " 'WijkenEnBuurten': 'NL00'}"
      ]
     },
     "metadata": {},
     "execution_count": 28
    }
   ],
   "source": [
    "temp2['value'][0]"
   ]
  },
  {
   "cell_type": "code",
   "execution_count": 94,
   "metadata": {},
   "outputs": [
    {
     "output_type": "execute_result",
     "data": {
      "text/plain": [
       "{'Id': 0,\n",
       " 'Measure': 'T001036',\n",
       " 'ValueAttribute': 'None',\n",
       " 'Value': 17081507.0,\n",
       " 'WijkenEnBuurten': 'NL00'}"
      ]
     },
     "metadata": {},
     "execution_count": 94
    }
   ],
   "source": [
    "r1[0]"
   ]
  },
  {
   "cell_type": "code",
   "execution_count": 95,
   "metadata": {},
   "outputs": [
    {
     "output_type": "execute_result",
     "data": {
      "text/plain": [
       "{'Id': 112045,\n",
       " 'Measure': 'A019276',\n",
       " 'ValueAttribute': 'None',\n",
       " 'Value': 310.0,\n",
       " 'WijkenEnBuurten': 'BU03633803'}"
      ]
     },
     "metadata": {},
     "execution_count": 95
    }
   ],
   "source": [
    "r2[0]"
   ]
  },
  {
   "source": [
    "_____\n",
    "# Parsing toml\n",
    "____"
   ],
   "cell_type": "markdown",
   "metadata": {}
  },
  {
   "cell_type": "code",
   "execution_count": 1,
   "metadata": {},
   "outputs": [
    {
     "output_type": "error",
     "ename": "NameError",
     "evalue": "name 'toml' is not defined",
     "traceback": [
      "\u001b[0;31m---------------------------------------------------------------------------\u001b[0m",
      "\u001b[0;31mNameError\u001b[0m                                 Traceback (most recent call last)",
      "\u001b[0;32m<ipython-input-1-626c81d7c89a>\u001b[0m in \u001b[0;36m<module>\u001b[0;34m\u001b[0m\n\u001b[1;32m      1\u001b[0m \u001b[0;32mwith\u001b[0m \u001b[0mopen\u001b[0m \u001b[0;34m(\u001b[0m\u001b[0;34m'../pyproject.toml'\u001b[0m\u001b[0;34m)\u001b[0m \u001b[0;32mas\u001b[0m \u001b[0mf\u001b[0m\u001b[0;34m:\u001b[0m\u001b[0;34m\u001b[0m\u001b[0;34m\u001b[0m\u001b[0m\n\u001b[0;32m----> 2\u001b[0;31m     \u001b[0mtoml_file\u001b[0m \u001b[0;34m=\u001b[0m \u001b[0mtoml\u001b[0m\u001b[0;34m.\u001b[0m\u001b[0mloads\u001b[0m\u001b[0;34m(\u001b[0m\u001b[0mf\u001b[0m\u001b[0;34m)\u001b[0m\u001b[0;34m\u001b[0m\u001b[0;34m\u001b[0m\u001b[0m\n\u001b[0m",
      "\u001b[0;31mNameError\u001b[0m: name 'toml' is not defined"
     ]
    }
   ],
   "source": [
    "with open ('../pyproject.toml') as f:\n",
    "    toml_file = toml.loads(f)"
   ]
  },
  {
   "source": [
    "_____\n",
    "# ODATA V3\n",
    "______"
   ],
   "cell_type": "markdown",
   "metadata": {}
  },
  {
   "cell_type": "code",
   "execution_count": 38,
   "metadata": {},
   "outputs": [],
   "source": [
    "import dask.bag as db"
   ]
  },
  {
   "cell_type": "code",
   "execution_count": 17,
   "metadata": {},
   "outputs": [],
   "source": [
    "id = \"83583NED\""
   ]
  },
  {
   "cell_type": "code",
   "execution_count": 18,
   "metadata": {},
   "outputs": [],
   "source": [
    "base_url =  f\"https://opendata.cbs.nl/ODataFeed/odata/{id}?$format=json\""
   ]
  },
  {
   "cell_type": "code",
   "execution_count": 20,
   "metadata": {},
   "outputs": [],
   "source": [
    "urls = {\n",
    "    item[\"name\"]: item[\"url\"]\n",
    "for item in requests.get(base_url).json()[\"value\"]\n",
    "}"
   ]
  },
  {
   "cell_type": "code",
   "execution_count": 45,
   "metadata": {},
   "outputs": [
    {
     "output_type": "execute_result",
     "data": {
      "text/plain": [
       "{'TableInfos': 'https://opendata.cbs.nl/ODataFeed/odata/83583NED/TableInfos',\n",
       " 'UntypedDataSet': 'https://opendata.cbs.nl/ODataFeed/odata/83583NED/UntypedDataSet',\n",
       " 'TypedDataSet': 'https://opendata.cbs.nl/ODataFeed/odata/83583NED/TypedDataSet',\n",
       " 'DataProperties': 'https://opendata.cbs.nl/ODataFeed/odata/83583NED/DataProperties',\n",
       " 'CategoryGroups': 'https://opendata.cbs.nl/ODataFeed/odata/83583NED/CategoryGroups',\n",
       " 'BedrijfstakkenBranchesSBI2008': 'https://opendata.cbs.nl/ODataFeed/odata/83583NED/BedrijfstakkenBranchesSBI2008',\n",
       " 'Bedrijfsgrootte': 'https://opendata.cbs.nl/ODataFeed/odata/83583NED/Bedrijfsgrootte',\n",
       " 'Perioden': 'https://opendata.cbs.nl/ODataFeed/odata/83583NED/Perioden'}"
      ]
     },
     "metadata": {},
     "execution_count": 45
    }
   ],
   "source": [
    "urls"
   ]
  },
  {
   "cell_type": "code",
   "execution_count": 46,
   "metadata": {},
   "outputs": [],
   "source": [
    "target_url = urls['TypedDataSet']"
   ]
  },
  {
   "cell_type": "code",
   "execution_count": 47,
   "metadata": {},
   "outputs": [],
   "source": [
    "target_url = \"?\".join((target_url, \"$format=json\"))"
   ]
  },
  {
   "cell_type": "code",
   "execution_count": 48,
   "metadata": {},
   "outputs": [],
   "source": [
    "r = requests.get(target_url).json()"
   ]
  },
  {
   "cell_type": "code",
   "execution_count": 73,
   "metadata": {},
   "outputs": [
    {
     "output_type": "execute_result",
     "data": {
      "text/plain": [
       "'83765NED'"
      ]
     },
     "metadata": {},
     "execution_count": 73
    }
   ],
   "source": [
    "# if r[\"value\"]:\n",
    "id"
   ]
  },
  {
   "cell_type": "code",
   "execution_count": 50,
   "metadata": {},
   "outputs": [],
   "source": [
    "def get_odata_v3(\n",
    "    target_url: str,\n",
    "):  # TODO -> How to define Bag for type hinting? (https://docs.python.org/3/library/typing.html#newtype)\n",
    "    # TODO -> Change requests to CURL command\n",
    "    \"\"\"Gets a table from a specific url for CBS Odata v3.\n",
    "\n",
    "    Args:\n",
    "        - url_table_properties (str): url of the table\n",
    "\n",
    "    Returns:\n",
    "        - data (Dask bag): all data received from target url as json type, in a Dask bag\n",
    "    \"\"\"\n",
    "    # First call target url and get json formatted response as dict\n",
    "    r = requests.get(target_url).json()\n",
    "    # Create Dask bag from dict (check if not empty field)\n",
    "    if r[\"value\"]:\n",
    "        bag = db.from_sequence(r[\"value\"])  # TODO -> define npartitions?\n",
    "\n",
    "    # check if more data exists\n",
    "    if \"@odata.nextLink\" in r:\n",
    "        target_url = r[\"@odata.nextLink\"]\n",
    "    else:\n",
    "        target_url = None\n",
    "\n",
    "    # if more data exists continue to concat bag until complete\n",
    "    while target_url:\n",
    "        r = requests.get(target_url).json()\n",
    "        if r[\"value\"]:\n",
    "            temp_bag = db.from_sequence(r[\"value\"])\n",
    "            bag = db.concat([bag, temp_bag])\n",
    "\n",
    "        if \"@odata.nextLink\" in r:\n",
    "            target_url = r[\"@odata.nextLink\"]\n",
    "        else:\n",
    "            target_url = None\n",
    "\n",
    "    return bag"
   ]
  },
  {
   "cell_type": "code",
   "execution_count": 51,
   "metadata": {},
   "outputs": [],
   "source": [
    "bag = get_odata_v3(target_url)"
   ]
  },
  {
   "cell_type": "code",
   "execution_count": 52,
   "metadata": {},
   "outputs": [
    {
     "output_type": "execute_result",
     "data": {
      "text/plain": [
       "({'ID': 0,\n",
       "  'BedrijfstakkenBranchesSBI2008': 'T001081',\n",
       "  'Bedrijfsgrootte': 'T001097',\n",
       "  'Perioden': '2010JJ00',\n",
       "  'BanenVanWerknemersInDecember_1': 7888.2},)"
      ]
     },
     "metadata": {},
     "execution_count": 52
    }
   ],
   "source": [
    "bag.take(1)"
   ]
  },
  {
   "cell_type": "code",
   "execution_count": null,
   "metadata": {},
   "outputs": [],
   "source": [
    "r = requests.get()"
   ]
  }
 ]
}