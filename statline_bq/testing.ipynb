{
 "metadata": {
  "language_info": {
   "codemirror_mode": {
    "name": "ipython",
    "version": 3
   },
   "file_extension": ".py",
   "mimetype": "text/x-python",
   "name": "python",
   "nbconvert_exporter": "python",
   "pygments_lexer": "ipython3",
   "version": "3.8.5-final"
  },
  "orig_nbformat": 2,
  "kernelspec": {
   "name": "python3",
   "display_name": "Python 3"
  }
 },
 "nbformat": 4,
 "nbformat_minor": 2,
 "cells": [
  {
   "cell_type": "code",
   "execution_count": 1,
   "metadata": {},
   "outputs": [],
   "source": [
    "import json\n",
    "from pathlib import Path\n",
    "import requests\n",
    "import subprocess\n",
    "import toml"
   ]
  },
  {
   "cell_type": "code",
   "execution_count": 2,
   "metadata": {},
   "outputs": [],
   "source": [
    "target_url = 'https://odata4.cbs.nl/CBS/83765NED/Observations'"
   ]
  },
  {
   "source": [
    "# fetching data\n",
    "____________"
   ],
   "cell_type": "markdown",
   "metadata": {}
  },
  {
   "source": [
    "## With Curl"
   ],
   "cell_type": "markdown",
   "metadata": {}
  },
  {
   "cell_type": "code",
   "execution_count": 3,
   "metadata": {},
   "outputs": [],
   "source": [
    "path1 = Path('./temp/temp1.json')\n",
    "path2 = Path('./temp/temp2.json')"
   ]
  },
  {
   "cell_type": "code",
   "execution_count": 4,
   "metadata": {},
   "outputs": [
    {
     "output_type": "execute_result",
     "data": {
      "text/plain": [
       "CompletedProcess(args='curl -fL https://odata4.cbs.nl/CBS/83765NED/Observations >> temp/temp1.json', returncode=0)"
      ]
     },
     "metadata": {},
     "execution_count": 4
    }
   ],
   "source": [
    "subprocess.run(f\"curl -fL {target_url} >> {path1}\", shell=True)"
   ]
  },
  {
   "cell_type": "code",
   "execution_count": 5,
   "metadata": {},
   "outputs": [],
   "source": [
    "with open(path1, 'r') as f:\n",
    "    temp1 = json.load(f)"
   ]
  },
  {
   "cell_type": "code",
   "execution_count": 6,
   "metadata": {},
   "outputs": [],
   "source": [
    "target_url2 = temp1['@odata.nextLink']"
   ]
  },
  {
   "cell_type": "code",
   "execution_count": null,
   "metadata": {},
   "outputs": [],
   "source": [
    "target_url"
   ]
  },
  {
   "cell_type": "code",
   "execution_count": null,
   "metadata": {},
   "outputs": [],
   "source": []
  },
  {
   "source": [
    "## With Requests"
   ],
   "cell_type": "markdown",
   "metadata": {}
  },
  {
   "cell_type": "code",
   "execution_count": 7,
   "metadata": {},
   "outputs": [
    {
     "output_type": "execute_result",
     "data": {
      "text/plain": [
       "CompletedProcess(args='curl -fL https://odata4.cbs.nl/CBS/83765NED/Observations?$skip=100000 >> temp/temp2.json', returncode=0)"
      ]
     },
     "metadata": {},
     "execution_count": 7
    }
   ],
   "source": [
    "subprocess.run(f\"curl -fL {target_url2} >> {path2}\", shell=True)"
   ]
  },
  {
   "cell_type": "code",
   "execution_count": 10,
   "metadata": {},
   "outputs": [],
   "source": [
    "r1 = r['value']"
   ]
  },
  {
   "cell_type": "code",
   "execution_count": 11,
   "metadata": {},
   "outputs": [],
   "source": [
    "target_url2_r = r['@odata.nextLink']"
   ]
  },
  {
   "cell_type": "code",
   "execution_count": 37,
   "metadata": {},
   "outputs": [],
   "source": [
    "r2 = requests.get(target_url2_r).json()"
   ]
  },
  {
   "cell_type": "code",
   "execution_count": 38,
   "metadata": {},
   "outputs": [
    {
     "output_type": "execute_result",
     "data": {
      "text/plain": [
       "dict_keys(['@odata.context', 'value', '@odata.nextLink'])"
      ]
     },
     "metadata": {},
     "execution_count": 38
    }
   ],
   "source": [
    "r2.keys()"
   ]
  },
  {
   "cell_type": "code",
   "execution_count": 40,
   "metadata": {},
   "outputs": [],
   "source": [
    "target_url3_r = r2['@odata.nextLink']"
   ]
  },
  {
   "cell_type": "code",
   "execution_count": 41,
   "metadata": {},
   "outputs": [],
   "source": [
    "r2 = r2['value']"
   ]
  },
  {
   "cell_type": "code",
   "execution_count": 42,
   "metadata": {},
   "outputs": [],
   "source": [
    "r3 = requests.get(target_url3_r).json()"
   ]
  },
  {
   "cell_type": "code",
   "execution_count": 46,
   "metadata": {},
   "outputs": [
    {
     "output_type": "execute_result",
     "data": {
      "text/plain": [
       "{'Id': 224551,\n",
       " 'Measure': '1050',\n",
       " 'ValueAttribute': 'None',\n",
       " 'Value': 455.0,\n",
       " 'WijkenEnBuurten': 'WK037304'}"
      ]
     },
     "metadata": {},
     "execution_count": 46
    }
   ],
   "source": [
    "r3['value'][0]"
   ]
  },
  {
   "source": [
    "## Comparing results"
   ],
   "cell_type": "markdown",
   "metadata": {}
  },
  {
   "cell_type": "code",
   "execution_count": 8,
   "metadata": {},
   "outputs": [],
   "source": [
    "with open(path2, 'r') as f:\n",
    "    temp2 = json.load(f)"
   ]
  },
  {
   "cell_type": "code",
   "execution_count": 28,
   "metadata": {},
   "outputs": [
    {
     "output_type": "execute_result",
     "data": {
      "text/plain": [
       "{'Id': 0,\n",
       " 'Measure': 'T001036',\n",
       " 'ValueAttribute': 'None',\n",
       " 'Value': 17081507.0,\n",
       " 'WijkenEnBuurten': 'NL00'}"
      ]
     },
     "metadata": {},
     "execution_count": 28
    }
   ],
   "source": [
    "temp2['value'][0]"
   ]
  },
  {
   "cell_type": "code",
   "execution_count": 9,
   "metadata": {},
   "outputs": [],
   "source": [
    "r = requests.get(target_url).json()"
   ]
  },
  {
   "cell_type": "code",
   "execution_count": 33,
   "metadata": {},
   "outputs": [
    {
     "output_type": "execute_result",
     "data": {
      "text/plain": [
       "{'Id': 112045,\n",
       " 'Measure': 'A019276',\n",
       " 'ValueAttribute': 'None',\n",
       " 'Value': 310.0,\n",
       " 'WijkenEnBuurten': 'BU03633803'}"
      ]
     },
     "metadata": {},
     "execution_count": 33
    }
   ],
   "source": [
    "r2[0]"
   ]
  },
  {
   "cell_type": "code",
   "execution_count": 35,
   "metadata": {},
   "outputs": [
    {
     "output_type": "execute_result",
     "data": {
      "text/plain": [
       "'https://odata4.cbs.nl/CBS/83765NED/Observations?$skip=100000'"
      ]
     },
     "metadata": {},
     "execution_count": 35
    }
   ],
   "source": [
    "target_url2"
   ]
  },
  {
   "cell_type": "code",
   "execution_count": null,
   "metadata": {},
   "outputs": [],
   "source": []
  },
  {
   "cell_type": "code",
   "execution_count": 20,
   "metadata": {},
   "outputs": [
    {
     "output_type": "execute_result",
     "data": {
      "text/plain": [
       "{'Id': 0,\n",
       " 'Measure': 'T001036',\n",
       " 'ValueAttribute': 'None',\n",
       " 'Value': 17081507.0,\n",
       " 'WijkenEnBuurten': 'NL00'}"
      ]
     },
     "metadata": {},
     "execution_count": 20
    }
   ],
   "source": [
    "temp1['value'][0]"
   ]
  },
  {
   "cell_type": "code",
   "execution_count": 32,
   "metadata": {},
   "outputs": [
    {
     "output_type": "execute_result",
     "data": {
      "text/plain": [
       "{'Id': 0,\n",
       " 'Measure': 'T001036',\n",
       " 'ValueAttribute': 'None',\n",
       " 'Value': 17081507.0,\n",
       " 'WijkenEnBuurten': 'NL00'}"
      ]
     },
     "metadata": {},
     "execution_count": 32
    }
   ],
   "source": [
    "r1[0]"
   ]
  }
 ]
}